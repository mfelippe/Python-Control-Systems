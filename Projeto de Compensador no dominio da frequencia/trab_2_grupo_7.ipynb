{
 "cells": [
  {
   "cell_type": "code",
   "execution_count": 14,
   "metadata": {},
   "outputs": [],
   "source": [
    "#bibliotecas\n",
    "import numpy as np\n",
    "import matplotlib.pyplot as plt\n",
    "import control.matlab as ctl\n",
    "import sympy as sp"
   ]
  },
  {
   "cell_type": "code",
   "execution_count": 46,
   "metadata": {
    "pycharm": {
     "name": "#%%\n"
    }
   },
   "outputs": [
    {
     "name": "stdout",
     "output_type": "stream",
     "text": [
      "\n",
      "     1\n",
      "-----------\n",
      "0.1 s^2 + s\n",
      "\n"
     ]
    }
   ],
   "source": [
    "# 1ºPasso - levantamento de requisito do sistema não compensado\n",
    "#\n",
    "#função de Transferencia\n",
    "# G(s) = 1/s(0.1s+1) => G(s) = 1/ 0.1s^2+ s\n",
    "num = np.array([1])\n",
    "den = np.array([0.1,1,0])\n",
    "G_s = ctl.tf(num,den)\n",
    "print(G_s)"
   ]
  },
  {
   "cell_type": "code",
   "execution_count": 38,
   "metadata": {},
   "outputs": [
    {
     "data": {
      "image/png": "[encoded data removed]",
      "text/plain": [
       "<Figure size 432x288 with 2 Axes>"
      ]
     },
     "metadata": {
      "needs_background": "light"
     },
     "output_type": "display_data"
    }
   ],
   "source": [
    "#bode do sistema não compensado\n",
    "mag, phase, omega = ctl.bode(G_s)\n"
   ]
  },
  {
   "cell_type": "code",
   "execution_count": 59,
   "metadata": {},
   "outputs": [
    {
     "name": "stdout",
     "output_type": "stream",
     "text": [
      "==================SISTEMA NÃO COMPENSADO====================\n",
      "Margem de fase: 84.31728748228102\n",
      "Frequencia para margem de fase 0.9950854917683446\n",
      "kv = limite s->0 s* G(s) =  1\n",
      "=======================================================\n"
     ]
    }
   ],
   "source": [
    "gm, pm, wg, wp = ctl.margin(G_s)\n",
    "print('==================SISTEMA NÃO COMPENSADO====================')\n",
    "#print('Margem de ganho:',gm)\n",
    "print('Margem de fase:',pm)\n",
    "#print('Frequencia para margem de ganho', wg)\n",
    "print('Frequencia para margem de fase',wp)\n",
    "#kv = limite s->0 s* G(s) = 1\n",
    "kv = 1\n",
    "print('kv = limite s->0 s* G(s) = ',kv)\n",
    "print('=======================================================')\n"
   ]
  },
  {
   "cell_type": "code",
   "execution_count": null,
   "outputs": [],
   "source": [
    "# --------------------- requisito de novo Kv ------------\n",
    "#                    NOVO_KV = limite s->0 s*G_s*kc\n",
    "#                             20 = kc * 1\n",
    "#                                 kc = 20 \n",
    "#\n",
    "#--------------------------------------------------------\n",
    "kc = 20\n",
    "kv = kc\n",
    "kc_db = 20*np.log10(kc)\n",
    "print('KC =',kc_db,\"dB\")"
   ],
   "metadata": {
    "collapsed": false,
    "pycharm": {
     "name": "#%%\n"
    }
   }
  },
  {
   "cell_type": "code",
   "execution_count": null,
   "outputs": [],
   "source": [
    "#- 2º Passso - levantamento de dados do sistema utilizando Kc \n",
    "#\n",
    "#                                  Diagrama de bloco do kc\n",
    "#\n",
    "#                imput -->()---|kc|--|G(s)|----->Output\n",
    "#                         |                   |\n",
    "#                         --------------------\n",
    "#\n",
    "\n",
    "G = ctl.feedback(kc* G_s,1)\n",
    "print(G)"
   ],
   "metadata": {
    "collapsed": false,
    "pycharm": {
     "name": "#%%\n"
    }
   }
  },
  {
   "cell_type": "code",
   "execution_count": null,
   "outputs": [],
   "source": [
    "# bode do sistema compensado apenas com  kc\n",
    "mag, phase, omega = ctl.bode(G)"
   ],
   "metadata": {
    "collapsed": false,
    "pycharm": {
     "name": "#%%\n"
    }
   }
  },
  {
   "cell_type": "code",
   "execution_count": null,
   "outputs": [],
   "source": [
    "gm, pm, wg, wp = ctl.margin(G)\n",
    "print('==================SISTEMA NÃO COMPENSADO====================')\n",
    "#print('Margem de ganho:',gm)\n",
    "print('Margem de fase:',pm)\n",
    "#print('Frequencia para margem de ganho', wg)\n",
    "print('Frequencia para margem de fase',wp)\n",
    "#kv = limite s->0 s* G(s) = 1\n",
    "kv = 1\n",
    "print('kv = limite s->0 s* G(s) = ',kv)\n",
    "print('=======================================================')"
   ],
   "metadata": {
    "collapsed": false,
    "pycharm": {
     "name": "#%%\n"
    }
   }
  },
  {
   "cell_type": "code",
   "execution_count": 45,
   "metadata": {},
   "outputs": [
    {
     "name": "stdout",
     "output_type": "stream",
     "text": [
      "KC = 26.020599913279625 dB\n"
     ]
    }
   ],
   "source": []
  },
  {
   "cell_type": "code",
   "execution_count": 51,
   "metadata": {},
   "outputs": [
    {
     "name": "stdout",
     "output_type": "stream",
     "text": [
      "\n",
      "       20\n",
      "----------------\n",
      "0.1 s^2 + s + 20\n",
      "\n"
     ]
    }
   ],
   "source": [
    "#- 2º Passso - levantamento de dados do sistema utilizando Kc \n",
    "#\n",
    "#                                  Diagrama de bloco do kc\n",
    "#\n",
    "#                imput -->()---|kc|--|G(s)|----->Output\n",
    "#                         |                   |\n",
    "#                         --------------------\n",
    "#\n",
    "\n",
    "G = ctl.feedback(kc* G_s,1)\n",
    "print(G)"
   ]
  },
  {
   "cell_type": "code",
   "execution_count": 53,
   "metadata": {},
   "outputs": [
    {
     "data": {
      "image/png": "[encoded data removed]",
      "text/plain": [
       "<Figure size 432x288 with 2 Axes>"
      ]
     },
     "metadata": {
      "needs_background": "light"
     },
     "output_type": "display_data"
    }
   ],
   "source": [
    "# bode do sistema compensado apenas com  kc\n",
    "mag, phase, omega = ctl.bode(G)"
   ]
  },
  {
   "cell_type": "code",
   "execution_count": 58,
   "metadata": {},
   "outputs": [
    {
     "name": "stdout",
     "output_type": "stream",
     "text": [
      "==================SISTEMA NÃO COMPENSADO====================\n",
      "Margem de fase: 60.0\n",
      "Frequencia para margem de fase 17.32050807568877\n",
      "kv = limite s->0 s* G(s) =  1\n",
      "=======================================================\n"
     ]
    }
   ],
   "source": [
    "gm, pm, wg, wp = ctl.margin(G)\n",
    "print('==================SISTEMA NÃO COMPENSADO====================')\n",
    "#print('Margem de ganho:',gm)\n",
    "print('Margem de fase:',pm)\n",
    "#print('Frequencia para margem de ganho', wg)\n",
    "print('Frequencia para margem de fase',wp)\n",
    "#kv = limite s->0 s* G(s) = 1\n",
    "kv = 1\n",
    "print('kv = limite s->0 s* G(s) = ',kv)\n",
    "print('=======================================================')"
   ]
  },
  {
   "cell_type": "code",
   "execution_count": null,
   "metadata": {},
   "outputs": [],
   "source": []
  }
 ],
 "metadata": {
  "kernelspec": {
   "display_name": "Python 3",
   "language": "python",
   "name": "python3"
  },
  "language_info": {
   "codemirror_mode": {
    "name": "ipython",
    "version": 3
   },
   "file_extension": ".py",
   "mimetype": "text/x-python",
   "name": "python",
   "nbconvert_exporter": "python",
   "pygments_lexer": "ipython3",
   "version": "3.8.6"
  }
 },
 "nbformat": 4,
 "nbformat_minor": 1
}